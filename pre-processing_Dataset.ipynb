{
 "cells": [
  {
   "cell_type": "code",
   "execution_count": null,
   "id": "initial_id",
   "metadata": {
    "ExecuteTime": {
     "end_time": "2024-11-18T06:03:20.262152Z",
     "start_time": "2024-11-18T06:03:17.241594Z"
    },
    "collapsed": true
   },
   "outputs": [],
   "source": [
    "import numpy as np\n",
    "import pandas as pd\n",
    "df = pd.read_csv('/Users/lorenzoreinoso/Downloads/conjunto_de_datos_defunciones_registradas_2023_csv/conjunto_de_datos/conjunto_de_datos_defunciones_registradas_2023_csv.CSV')"
   ]
  },
  {
   "cell_type": "code",
   "execution_count": 39,
   "id": "fdc6803647ef3a0f",
   "metadata": {
    "ExecuteTime": {
     "end_time": "2024-11-18T06:03:20.289914Z",
     "start_time": "2024-11-18T06:03:20.280373Z"
    }
   },
   "outputs": [
    {
     "data": {
      "text/html": [
       "<div>\n",
       "<style scoped>\n",
       "    .dataframe tbody tr th:only-of-type {\n",
       "        vertical-align: middle;\n",
       "    }\n",
       "\n",
       "    .dataframe tbody tr th {\n",
       "        vertical-align: top;\n",
       "    }\n",
       "\n",
       "    .dataframe thead th {\n",
       "        text-align: right;\n",
       "    }\n",
       "</style>\n",
       "<table border=\"1\" class=\"dataframe\">\n",
       "  <thead>\n",
       "    <tr style=\"text-align: right;\">\n",
       "      <th></th>\n",
       "      <th>ent_regis</th>\n",
       "      <th>mun_regis</th>\n",
       "      <th>tloc_regis</th>\n",
       "      <th>loc_regis</th>\n",
       "      <th>ent_resid</th>\n",
       "      <th>mun_resid</th>\n",
       "      <th>tloc_resid</th>\n",
       "      <th>loc_resid</th>\n",
       "      <th>ent_ocurr</th>\n",
       "      <th>mun_ocurr</th>\n",
       "      <th>...</th>\n",
       "      <th>complicaro</th>\n",
       "      <th>dia_cert</th>\n",
       "      <th>mes_cert</th>\n",
       "      <th>anio_cert</th>\n",
       "      <th>maternas</th>\n",
       "      <th>ent_ocules</th>\n",
       "      <th>mun_ocules</th>\n",
       "      <th>loc_ocules</th>\n",
       "      <th>razon_m</th>\n",
       "      <th>dis_re_oax</th>\n",
       "    </tr>\n",
       "  </thead>\n",
       "  <tbody>\n",
       "    <tr>\n",
       "      <th>0</th>\n",
       "      <td>1</td>\n",
       "      <td>1</td>\n",
       "      <td>15</td>\n",
       "      <td>1</td>\n",
       "      <td>32</td>\n",
       "      <td>44</td>\n",
       "      <td>5</td>\n",
       "      <td>1</td>\n",
       "      <td>1</td>\n",
       "      <td>1</td>\n",
       "      <td>...</td>\n",
       "      <td>9</td>\n",
       "      <td>18</td>\n",
       "      <td>12</td>\n",
       "      <td>2022</td>\n",
       "      <td>NaN</td>\n",
       "      <td>88</td>\n",
       "      <td>888</td>\n",
       "      <td>8888</td>\n",
       "      <td>0</td>\n",
       "      <td>999</td>\n",
       "    </tr>\n",
       "    <tr>\n",
       "      <th>1</th>\n",
       "      <td>1</td>\n",
       "      <td>1</td>\n",
       "      <td>15</td>\n",
       "      <td>1</td>\n",
       "      <td>1</td>\n",
       "      <td>1</td>\n",
       "      <td>15</td>\n",
       "      <td>1</td>\n",
       "      <td>1</td>\n",
       "      <td>1</td>\n",
       "      <td>...</td>\n",
       "      <td>9</td>\n",
       "      <td>12</td>\n",
       "      <td>12</td>\n",
       "      <td>2022</td>\n",
       "      <td>NaN</td>\n",
       "      <td>88</td>\n",
       "      <td>888</td>\n",
       "      <td>8888</td>\n",
       "      <td>0</td>\n",
       "      <td>999</td>\n",
       "    </tr>\n",
       "    <tr>\n",
       "      <th>2</th>\n",
       "      <td>1</td>\n",
       "      <td>1</td>\n",
       "      <td>15</td>\n",
       "      <td>1</td>\n",
       "      <td>1</td>\n",
       "      <td>1</td>\n",
       "      <td>15</td>\n",
       "      <td>1</td>\n",
       "      <td>1</td>\n",
       "      <td>1</td>\n",
       "      <td>...</td>\n",
       "      <td>9</td>\n",
       "      <td>17</td>\n",
       "      <td>12</td>\n",
       "      <td>2022</td>\n",
       "      <td>NaN</td>\n",
       "      <td>88</td>\n",
       "      <td>888</td>\n",
       "      <td>8888</td>\n",
       "      <td>0</td>\n",
       "      <td>999</td>\n",
       "    </tr>\n",
       "    <tr>\n",
       "      <th>3</th>\n",
       "      <td>1</td>\n",
       "      <td>1</td>\n",
       "      <td>15</td>\n",
       "      <td>1</td>\n",
       "      <td>1</td>\n",
       "      <td>1</td>\n",
       "      <td>15</td>\n",
       "      <td>1</td>\n",
       "      <td>1</td>\n",
       "      <td>1</td>\n",
       "      <td>...</td>\n",
       "      <td>9</td>\n",
       "      <td>1</td>\n",
       "      <td>1</td>\n",
       "      <td>2023</td>\n",
       "      <td>NaN</td>\n",
       "      <td>88</td>\n",
       "      <td>888</td>\n",
       "      <td>8888</td>\n",
       "      <td>0</td>\n",
       "      <td>999</td>\n",
       "    </tr>\n",
       "    <tr>\n",
       "      <th>4</th>\n",
       "      <td>1</td>\n",
       "      <td>1</td>\n",
       "      <td>15</td>\n",
       "      <td>1</td>\n",
       "      <td>14</td>\n",
       "      <td>53</td>\n",
       "      <td>1</td>\n",
       "      <td>7777</td>\n",
       "      <td>1</td>\n",
       "      <td>1</td>\n",
       "      <td>...</td>\n",
       "      <td>8</td>\n",
       "      <td>22</td>\n",
       "      <td>12</td>\n",
       "      <td>2022</td>\n",
       "      <td>NaN</td>\n",
       "      <td>88</td>\n",
       "      <td>888</td>\n",
       "      <td>8888</td>\n",
       "      <td>0</td>\n",
       "      <td>999</td>\n",
       "    </tr>\n",
       "  </tbody>\n",
       "</table>\n",
       "<p>5 rows × 74 columns</p>\n",
       "</div>"
      ],
      "text/plain": [
       "   ent_regis  mun_regis  tloc_regis  loc_regis  ent_resid  mun_resid  \\\n",
       "0          1          1          15          1         32         44   \n",
       "1          1          1          15          1          1          1   \n",
       "2          1          1          15          1          1          1   \n",
       "3          1          1          15          1          1          1   \n",
       "4          1          1          15          1         14         53   \n",
       "\n",
       "   tloc_resid  loc_resid  ent_ocurr  mun_ocurr  ...  complicaro  dia_cert  \\\n",
       "0           5          1          1          1  ...           9        18   \n",
       "1          15          1          1          1  ...           9        12   \n",
       "2          15          1          1          1  ...           9        17   \n",
       "3          15          1          1          1  ...           9         1   \n",
       "4           1       7777          1          1  ...           8        22   \n",
       "\n",
       "  mes_cert anio_cert maternas  ent_ocules  mun_ocules  loc_ocules  razon_m  \\\n",
       "0       12      2022      NaN          88         888        8888        0   \n",
       "1       12      2022      NaN          88         888        8888        0   \n",
       "2       12      2022      NaN          88         888        8888        0   \n",
       "3        1      2023      NaN          88         888        8888        0   \n",
       "4       12      2022      NaN          88         888        8888        0   \n",
       "\n",
       "   dis_re_oax  \n",
       "0         999  \n",
       "1         999  \n",
       "2         999  \n",
       "3         999  \n",
       "4         999  \n",
       "\n",
       "[5 rows x 74 columns]"
      ]
     },
     "execution_count": 39,
     "metadata": {},
     "output_type": "execute_result"
    }
   ],
   "source": [
    "df.head()"
   ]
  },
  {
   "cell_type": "markdown",
   "id": "b86b45c01585c47c",
   "metadata": {},
   "source": []
  },
  {
   "cell_type": "code",
   "execution_count": 40,
   "id": "45d888ac8396dc3e",
   "metadata": {
    "ExecuteTime": {
     "end_time": "2024-11-18T06:03:20.324221Z",
     "start_time": "2024-11-18T06:03:20.320980Z"
    }
   },
   "outputs": [
    {
     "data": {
      "text/plain": [
       "(799869, 74)"
      ]
     },
     "execution_count": 40,
     "metadata": {},
     "output_type": "execute_result"
    }
   ],
   "source": [
    "df.shape"
   ]
  },
  {
   "cell_type": "code",
   "execution_count": 41,
   "id": "b384021ddffda5a8",
   "metadata": {
    "ExecuteTime": {
     "end_time": "2024-11-18T06:03:20.369402Z",
     "start_time": "2024-11-18T06:03:20.366811Z"
    }
   },
   "outputs": [
    {
     "data": {
      "text/plain": [
       "Index(['ent_regis', 'mun_regis', 'tloc_regis', 'loc_regis', 'ent_resid',\n",
       "       'mun_resid', 'tloc_resid', 'loc_resid', 'ent_ocurr', 'mun_ocurr',\n",
       "       'tloc_ocurr', 'loc_ocurr', 'causa_def', 'cod_adicio', 'lista_mex',\n",
       "       'sexo', 'ent_nac', 'afromex', 'conindig', 'lengua', 'cve_lengua',\n",
       "       'nacionalid', 'nacesp_cve', 'edad', 'sem_gest', 'gramos', 'dia_ocurr',\n",
       "       'mes_ocurr', 'anio_ocur', 'dia_regis', 'mes_regis', 'anio_regis',\n",
       "       'dia_nacim', 'mes_nacim', 'anio_nacim', 'cond_act', 'ocupacion',\n",
       "       'escolarida', 'edo_civil', 'tipo_defun', 'ocurr_trab', 'lugar_ocur',\n",
       "       'par_agre', 'vio_fami', 'asist_medi', 'cirugia', 'natviole',\n",
       "       'necropsia', 'usonecrops', 'encefalica', 'donador', 'sitio_ocur',\n",
       "       'cond_cert', 'derechohab', 'embarazo', 'rel_emba', 'horas', 'minutos',\n",
       "       'capitulo', 'grupo', 'lista1', 'gr_lismex', 'area_ur', 'edad_agru',\n",
       "       'complicaro', 'dia_cert', 'mes_cert', 'anio_cert', 'maternas',\n",
       "       'ent_ocules', 'mun_ocules', 'loc_ocules', 'razon_m', 'dis_re_oax'],\n",
       "      dtype='object')"
      ]
     },
     "execution_count": 41,
     "metadata": {},
     "output_type": "execute_result"
    }
   ],
   "source": [
    "df.columns"
   ]
  },
  {
   "cell_type": "code",
   "execution_count": 42,
   "id": "83f7cd121dc1fd73",
   "metadata": {
    "ExecuteTime": {
     "end_time": "2024-11-18T06:03:20.406555Z",
     "start_time": "2024-11-18T06:03:20.404615Z"
    }
   },
   "outputs": [],
   "source": [
    "def get_values(df, column, catalog):\n",
    "    # First merge to get the descriptions\n",
    "    df_cat = pd.read_csv(f\"/Users/lorenzoreinoso/Documents/defunciones_23_ML_P2/catalogos/{catalog}\")\n",
    "    df = df.merge(\n",
    "    df_cat,\n",
    "    left_on=column,\n",
    "    right_on=\"CVE\",\n",
    "    how=\"left\")\n",
    "    df[column] = df['DESCRIP']\n",
    "    df = df.drop(['CVE', 'DESCRIP'], axis=1)\n",
    "    return df\n"
   ]
  },
  {
   "cell_type": "code",
   "execution_count": 43,
   "id": "73cf6f908ebaef20",
   "metadata": {
    "ExecuteTime": {
     "end_time": "2024-11-18T06:03:20.467115Z",
     "start_time": "2024-11-18T06:03:20.462076Z"
    }
   },
   "outputs": [
    {
     "data": {
      "text/plain": [
       "dis_re_oax\n",
       "999    772391\n",
       "919      5632\n",
       "906      3059\n",
       "929      2168\n",
       "928      2148\n",
       "902      1292\n",
       "922      1276\n",
       "921      1222\n",
       "904      1068\n",
       "930      1010\n",
       "920       839\n",
       "914       790\n",
       "916       787\n",
       "926       729\n",
       "911       558\n",
       "915       535\n",
       "925       476\n",
       "910       467\n",
       "908       434\n",
       "923       377\n",
       "918       372\n",
       "905       359\n",
       "924       283\n",
       "913       255\n",
       "912       251\n",
       "907       230\n",
       "901       227\n",
       "909       218\n",
       "917       205\n",
       "927       135\n",
       "903        76\n",
       "Name: count, dtype: int64"
      ]
     },
     "execution_count": 43,
     "metadata": {},
     "output_type": "execute_result"
    }
   ],
   "source": [
    "df[\"dis_re_oax\"].value_counts()"
   ]
  },
  {
   "cell_type": "code",
   "execution_count": 44,
   "id": "1dbd6a7c0115cc40",
   "metadata": {
    "ExecuteTime": {
     "end_time": "2024-11-18T06:03:20.967663Z",
     "start_time": "2024-11-18T06:03:20.515141Z"
    }
   },
   "outputs": [
    {
     "data": {
      "text/plain": [
       "embarazo\n",
       "No aplica                          455674\n",
       "No especificada                    312396\n",
       "No tuvieron relación las causas       853\n",
       "Si tuvieron relación las causas       244\n",
       "Name: count, dtype: int64"
      ]
     },
     "execution_count": 44,
     "metadata": {},
     "output_type": "execute_result"
    }
   ],
   "source": [
    "df = get_values(df, \"embarazo\", \"relacion_con_embarazo.csv\")\n",
    "df[\"embarazo\"].value_counts()"
   ]
  },
  {
   "cell_type": "code",
   "execution_count": 45,
   "id": "936e226211dce25a",
   "metadata": {
    "ExecuteTime": {
     "end_time": "2024-11-18T06:03:21.989769Z",
     "start_time": "2024-11-18T06:03:21.003597Z"
    }
   },
   "outputs": [
    {
     "data": {
      "text/plain": [
       "vio_fami\n",
       "No aplica cuando no es homicidio    767617\n",
       "No especificado                      32122\n",
       "Sí                                      86\n",
       "No                                      44\n",
       "Name: count, dtype: int64"
      ]
     },
     "execution_count": 45,
     "metadata": {},
     "output_type": "execute_result"
    }
   ],
   "source": [
    "df = get_values(df, \"vio_fami\", \"violencia_familiar.csv\")\n",
    "df[\"vio_fami\"].value_counts()"
   ]
  },
  {
   "cell_type": "code",
   "execution_count": 46,
   "id": "e36db78baea7e4d5",
   "metadata": {
    "ExecuteTime": {
     "end_time": "2024-11-18T06:03:22.930956Z",
     "start_time": "2024-11-18T06:03:22.029561Z"
    }
   },
   "outputs": [
    {
     "data": {
      "text/plain": [
       "usonecrops\n",
       "No aplica          710666\n",
       "Sí                  78757\n",
       "No especificada      9276\n",
       "No                   1170\n",
       "Name: count, dtype: int64"
      ]
     },
     "execution_count": 46,
     "metadata": {},
     "output_type": "execute_result"
    }
   ],
   "source": [
    "df = get_values(df, \"usonecrops\", \"uso_necropsia.csv\")\n",
    "df[\"usonecrops\"].value_counts()"
   ]
  },
  {
   "cell_type": "code",
   "execution_count": 47,
   "id": "2f16043921043bd5",
   "metadata": {
    "ExecuteTime": {
     "end_time": "2024-11-18T06:03:23.525092Z",
     "start_time": "2024-11-18T06:03:22.969089Z"
    }
   },
   "outputs": [
    {
     "data": {
      "text/plain": [
       "tloc_regis\n",
       "500 000 a 999 999 habitantes        186016\n",
       "250 000 a 499 999 habitantes         89887\n",
       "100 000 a 249 999 habitantes         83988\n",
       "1 000 000 a 1 499 999 habitantes     68701\n",
       "1 500 000 y más habitantes           55884\n",
       "5 000 a 9 999 habitantes             46169\n",
       "2 500 a 4 999 habitantes             40026\n",
       "10 000 a 14 999 habitantes           33219\n",
       "20 000 a 29 999 habitantes           30035\n",
       "30 000 a 39 999 habitantes           29189\n",
       "1 000 a 1 999 habitantes             27804\n",
       "50 000 a 74 999 habitantes           26374\n",
       "15 000 a 19 999 habitantes           25346\n",
       "75 000 a 99 999 habitantes           19287\n",
       "40 000 a 49 999 habitantes           15831\n",
       "1 a 999 habitantes                   13804\n",
       "2 000 a 2 499  habitantes             8309\n",
       "Name: count, dtype: int64"
      ]
     },
     "execution_count": 47,
     "metadata": {},
     "output_type": "execute_result"
    }
   ],
   "source": [
    "df = get_values(df, \"tloc_regis\", \"tamaคo_localidad.csv\")\n",
    "df[\"tloc_regis\"].value_counts()"
   ]
  },
  {
   "cell_type": "code",
   "execution_count": 48,
   "id": "7a96b904a54d1212",
   "metadata": {
    "ExecuteTime": {
     "end_time": "2024-11-18T06:03:24.164193Z",
     "start_time": "2024-11-18T06:03:23.562737Z"
    }
   },
   "outputs": [
    {
     "data": {
      "text/plain": [
       "tloc_resid\n",
       "500 000 a 999 999 habitantes        128617\n",
       "1 a 999 habitantes                   95856\n",
       "250 000 a 499 999 habitantes         93257\n",
       "100 000 a 249 999 habitantes         64002\n",
       "1 500 000 y más habitantes           62511\n",
       "1 000 000 a 1 499 999 habitantes     46655\n",
       "5 000 a 9 999 habitantes             44014\n",
       "1 000 a 1 999 habitantes             42634\n",
       "2 500 a 4 999 habitantes             39844\n",
       "10 000 a 14 999 habitantes           27475\n",
       "20 000 a 29 999 habitantes           25486\n",
       "30 000 a 39 999 habitantes           25440\n",
       "50 000 a 74 999 habitantes           23490\n",
       "15 000 a 19 999 habitantes           21028\n",
       "75 000 a 99 999 habitantes           18200\n",
       "40 000 a 49 999 habitantes           15874\n",
       "2 000 a 2 499  habitantes            13296\n",
       "No especificado                      12190\n",
       "Name: count, dtype: int64"
      ]
     },
     "execution_count": 48,
     "metadata": {},
     "output_type": "execute_result"
    }
   ],
   "source": [
    "df = get_values(df, \"tloc_resid\", \"tamaคo_localidad.csv\")\n",
    "df[\"tloc_resid\"].value_counts()"
   ]
  },
  {
   "cell_type": "code",
   "execution_count": 49,
   "id": "ffcf32b0e5fe5487",
   "metadata": {
    "ExecuteTime": {
     "end_time": "2024-11-18T06:03:24.886805Z",
     "start_time": "2024-11-18T06:03:24.202580Z"
    }
   },
   "outputs": [
    {
     "data": {
      "text/plain": [
       "tloc_ocurr\n",
       "500 000 a 999 999 habitantes        146071\n",
       "250 000 a 499 999 habitantes        115528\n",
       "100 000 a 249 999 habitantes         77426\n",
       "1 a 999 habitantes                   71541\n",
       "1 500 000 y más habitantes           66875\n",
       "1 000 000 a 1 499 999 habitantes     59652\n",
       "5 000 a 9 999 habitantes             32733\n",
       "1 000 a 1 999 habitantes             31394\n",
       "2 500 a 4 999 habitantes             30333\n",
       "30 000 a 39 999 habitantes           26366\n",
       "50 000 a 74 999 habitantes           25129\n",
       "20 000 a 29 999 habitantes           22914\n",
       "10 000 a 14 999 habitantes           21551\n",
       "15 000 a 19 999 habitantes           20158\n",
       "75 000 a 99 999 habitantes           19605\n",
       "40 000 a 49 999 habitantes           15913\n",
       "2 000 a 2 499  habitantes            12066\n",
       "No especificado                       4614\n",
       "Name: count, dtype: int64"
      ]
     },
     "execution_count": 49,
     "metadata": {},
     "output_type": "execute_result"
    }
   ],
   "source": [
    "df = get_values(df, \"tloc_ocurr\", \"tamaคo_localidad.csv\")\n",
    "df[\"tloc_ocurr\"].value_counts()"
   ]
  },
  {
   "cell_type": "code",
   "execution_count": 50,
   "id": "53566f96d0bd838f",
   "metadata": {
    "ExecuteTime": {
     "end_time": "2024-11-18T06:03:25.674518Z",
     "start_time": "2024-11-18T06:03:24.924630Z"
    }
   },
   "outputs": [
    {
     "data": {
      "text/plain": [
       "sitio_ocur\n",
       "Hogar                                         374623\n",
       "IMSS                                          144835\n",
       "Secretaría de salud                            99391\n",
       "Otro lugar                                     42799\n",
       "Unidad médica privada                          35299\n",
       "Vía pública                                    34489\n",
       "ISSSTE                                         26434\n",
       "No especificado                                16815\n",
       "Otra unidad pública                            10869\n",
       "IMSS BIENESTAR                                  7833\n",
       "PEMEX                                           2841\n",
       "Secretaría de la Defensa Nacional (SEDENA)      2810\n",
       "Secretaría de Marina (SEMAR)                     831\n",
       "Name: count, dtype: int64"
      ]
     },
     "execution_count": 50,
     "metadata": {},
     "output_type": "execute_result"
    }
   ],
   "source": [
    "df = get_values(df, \"sitio_ocur\", \"sitio_ocurrencia.csv\")\n",
    "df[\"sitio_ocur\"].value_counts()"
   ]
  },
  {
   "cell_type": "code",
   "execution_count": 51,
   "id": "9d55b6ff5bd5fbce",
   "metadata": {
    "ExecuteTime": {
     "end_time": "2024-11-18T06:03:26.600015Z",
     "start_time": "2024-11-18T06:03:25.711526Z"
    }
   },
   "outputs": [
    {
     "data": {
      "text/plain": [
       "sexo\n",
       "Hombre             446734\n",
       "Mujer              352629\n",
       "No especificado       506\n",
       "Name: count, dtype: int64"
      ]
     },
     "execution_count": 51,
     "metadata": {},
     "output_type": "execute_result"
    }
   ],
   "source": [
    "df = get_values(df, \"sexo\", \"sexo.csv\")\n",
    "df[\"sexo\"].value_counts()"
   ]
  },
  {
   "cell_type": "code",
   "execution_count": 52,
   "id": "ad4291ddef1b128a",
   "metadata": {
    "ExecuteTime": {
     "end_time": "2024-11-18T06:03:27.530361Z",
     "start_time": "2024-11-18T06:03:26.638626Z"
    }
   },
   "outputs": [
    {
     "data": {
      "text/plain": [
       "rel_emba\n",
       "No aplica                          455674\n",
       "No especificada                    326379\n",
       "No tuvieron relación las causas     17429\n",
       "Si tuvieron relación las causas       387\n",
       "Name: count, dtype: int64"
      ]
     },
     "execution_count": 52,
     "metadata": {},
     "output_type": "execute_result"
    }
   ],
   "source": [
    "df = get_values(df, \"rel_emba\", \"relacion_con_embarazo.csv\")\n",
    "df[\"rel_emba\"].value_counts()"
   ]
  },
  {
   "cell_type": "code",
   "execution_count": 53,
   "id": "d48d225854a718d6",
   "metadata": {
    "ExecuteTime": {
     "end_time": "2024-11-18T06:03:28.251108Z",
     "start_time": "2024-11-18T06:03:27.566797Z"
    }
   },
   "outputs": [
    {
     "data": {
      "text/plain": [
       "razon_m\n",
       "Contribuye al cálculo de la Razón de Mortalidad Materna    584\n",
       "Name: count, dtype: int64"
      ]
     },
     "execution_count": 53,
     "metadata": {},
     "output_type": "execute_result"
    }
   ],
   "source": [
    "df = get_values(df, \"razon_m\", \"razon_materna.csv\")\n",
    "df[\"razon_m\"].value_counts()"
   ]
  },
  {
   "cell_type": "code",
   "execution_count": 54,
   "id": "a63b90f1116d562b",
   "metadata": {
    "ExecuteTime": {
     "end_time": "2024-11-18T06:03:29.260561Z",
     "start_time": "2024-11-18T06:03:28.300829Z"
    }
   },
   "outputs": [
    {
     "data": {
      "text/plain": [
       "tipo_defun\n",
       "Enfermedad (Muerte natural)        715751\n",
       "Accidente                           40282\n",
       "Homicidio (Agresión)                32253\n",
       "Suicidio (Lesión autoinfligida)      9072\n",
       "Se ignora                            2482\n",
       "Intervención legale                    29\n",
       "Name: count, dtype: int64"
      ]
     },
     "execution_count": 54,
     "metadata": {},
     "output_type": "execute_result"
    }
   ],
   "source": [
    "df = get_values(df, \"tipo_defun\", \"presunta_defuncion_violenta.csv\")\n",
    "df[\"tipo_defun\"].value_counts()"
   ]
  },
  {
   "cell_type": "code",
   "execution_count": 55,
   "id": "397285532c3fee40",
   "metadata": {
    "ExecuteTime": {
     "end_time": "2024-11-18T06:03:29.956446Z",
     "start_time": "2024-11-18T06:03:29.296389Z"
    }
   },
   "outputs": [
    {
     "data": {
      "text/plain": [
       "par_agre\n",
       "No hubo violencia       767616\n",
       "No especificado          32001\n",
       "Ninguno                    122\n",
       "Sin parentesco              29\n",
       "Concubino, compañero        16\n",
       "Hermano                     15\n",
       "Padre                       10\n",
       "Hijo                         9\n",
       "Esposo, Cónyuge              8\n",
       "Ex esposo                    8\n",
       "Sobrino                      6\n",
       "Conocido                     5\n",
       "Cuñado                       3\n",
       "Madre                        3\n",
       "Otro familiar                3\n",
       "Amigo                        2\n",
       "Padrastro                    2\n",
       "Concubina, compañera         2\n",
       "Primo                        2\n",
       "Novio                        2\n",
       "Esposa, Cónyuge              1\n",
       "Sobrina                      1\n",
       "Yerno                        1\n",
       "Tío                          1\n",
       "Ahijado                      1\n",
       "Name: count, dtype: int64"
      ]
     },
     "execution_count": 55,
     "metadata": {},
     "output_type": "execute_result"
    }
   ],
   "source": [
    "df = get_values(df, \"par_agre\", \"parentesco_agresor.csv\")\n",
    "df[\"par_agre\"].value_counts()"
   ]
  },
  {
   "cell_type": "code",
   "execution_count": 56,
   "id": "7bb4953f1d34e5a8",
   "metadata": {
    "ExecuteTime": {
     "end_time": "2024-11-18T06:03:30.633044Z",
     "start_time": "2024-11-18T06:03:29.997630Z"
    }
   },
   "outputs": [
    {
     "data": {
      "text/plain": [
       "nacesp_cve\n",
       "Mexicana (no especificado de Entidad Federativa)    783751\n",
       "No especificado                                      10612\n",
       "Estados Unidos de América                             2302\n",
       "República de Guatemala                                 400\n",
       "Canadá                                                 344\n",
       "                                                     ...  \n",
       "República de Albania                                     1\n",
       "República Kirguisa                                       1\n",
       "República Islámica de Afganistán                         1\n",
       "República de Irak                                        1\n",
       "República de Angola                                      1\n",
       "Name: count, Length: 98, dtype: int64"
      ]
     },
     "execution_count": 56,
     "metadata": {},
     "output_type": "execute_result"
    }
   ],
   "source": [
    "df = get_values(df, \"nacesp_cve\", \"paises.csv\")\n",
    "df[\"nacesp_cve\"].value_counts()"
   ]
  },
  {
   "cell_type": "code",
   "execution_count": 57,
   "id": "b269c463052bcb7b",
   "metadata": {
    "ExecuteTime": {
     "end_time": "2024-11-18T06:03:31.317925Z",
     "start_time": "2024-11-18T06:03:30.669943Z"
    }
   },
   "outputs": [
    {
     "data": {
      "text/plain": [
       "ocurr_trab\n",
       "No aplica para muerte natural y menores de 5 años    717363\n",
       "No                                                    42692\n",
       "No especificado                                       32001\n",
       "Sí                                                     7813\n",
       "Name: count, dtype: int64"
      ]
     },
     "execution_count": 57,
     "metadata": {},
     "output_type": "execute_result"
    }
   ],
   "source": [
    "df = get_values(df, \"ocurr_trab\", \"ocurrio_trabajo.csv\")\n",
    "df[\"ocurr_trab\"].value_counts()"
   ]
  },
  {
   "cell_type": "code",
   "execution_count": 58,
   "id": "dbddea1433716968",
   "metadata": {
    "ExecuteTime": {
     "end_time": "2024-11-18T06:03:32.500075Z",
     "start_time": "2024-11-18T06:03:31.407777Z"
    }
   },
   "outputs": [
    {
     "data": {
      "text/plain": [
       "ocupacion\n",
       "No trabaja                                                                                                                               425630\n",
       "Trabajadores en actividades agrícolas y ganaderas                                                                                         75062\n",
       "Comerciantes en establecimientos                                                                                                          41174\n",
       "No especificada                                                                                                                           40496\n",
       "Ocupaciones insuficientemente especificadas                                                                                               39777\n",
       "No aplica a menores de 5 años                                                                                                             23594\n",
       "Trabajadores en la extracción y la edificación de construcciones                                                                          21557\n",
       "Conductores de transporte y de maquinaria móvil                                                                                           17112\n",
       "Otros trabajadores en actividades elementales y de apoyo, no clasificados anteriormente                                                   15485\n",
       "Otros trabajadores artesanales no clasificados anteriormente                                                                              14479\n",
       "Auxiliares y técnicos en ciencias exactas, biológicas, ingeniería, informática y en telecomunicaciones                                     8932\n",
       "Profesionistas en ciencias económico-administrativas, ciencias sociales, humanistas y en artes                                             7710\n",
       "Profesores y especialistas en docencia                                                                                                     7384\n",
       "Trabajadores en servicios de protección y vigilancia                                                                                       6945\n",
       "Artesanos y trabajadores en la elaboración de productos de madera, papel, textiles y de cuero y piel                                       5956\n",
       "Artesanos y trabajadores en el tratamiento y elaboración de productos de metal                                                             5380\n",
       "Trabajadores domésticos, de limpieza, planchadores y otros trabajadores de limpieza                                                        4117\n",
       "Supervisores de personal de apoyo administrativo, secretarias, capturistas, cajeros y trabajadores de control de archivo y transporte      3437\n",
       "Investigadores y profesionistas en ciencias exactas, biológicas, ingeniería, informática y en telecomunicaciones                           3016\n",
       "Trabajadores en la preparación y servicio de alimentos y bebidas, así como en servicios de esparcimiento y de hotelería                    2805\n",
       "Médicos, enfermeras y otros especialistas en salud                                                                                         2571\n",
       "Otros directores, funcionarios, gerentes, coordinadores y jefes de área, no clasificados anteriormente                                     2439\n",
       "Empleados de ventas en establecimientos                                                                                                    2277\n",
       "Otros profesionistas y técnicos no clasificados anteriormente                                                                              2259\n",
       "Trabajadores en la elaboración y procesamiento de alimentos, bebidas y productos de tabaco                                                 2150\n",
       "Otros trabajadores auxiliares en actividades administrativas, no clasificados anteriormente                                                2143\n",
       "Enfermeras, técnicos en medicina y trabajadores de apoyo en salud                                                                          1946\n",
       "Otros operadores de maquinaria industrial, ensambladores y conductores de transporte, no clasificados anteriormente                        1775\n",
       "Auxiliares y técnicos en ciencias económico-administrativas, ciencias sociales, humanistas y en artes                                      1581\n",
       "Trabajadores en cuidados personales y del hogar                                                                                            1543\n",
       "Trabajadores en actividades pesqueras, forestales, caza y similares                                                                        1427\n",
       "Trabajadores de apoyo en la minería, construcción e industria                                                                              1306\n",
       "Operadores de instalaciones y maquinaria industrial                                                                                         963\n",
       "Otros comerciantes, empleados en ventas y agentes de ventas en establecimientos, no clasificados anteriormente                              860\n",
       "Artesanos y trabajadores en la elaboración de productos de cerámica, vidrio, azulejo y similares                                            539\n",
       "Trabajadores de la Armada, Ejército y Fuerza Aérea                                                                                          458\n",
       "Vendedores ambulantes                                                                                                                       420\n",
       "Supervisores y trabajadores que brindan y manejan información                                                                               385\n",
       "Auxiliares y técnicos en educación, instructores y capacitadores                                                                            334\n",
       "Artesanos y trabajadores en la elaboración de productos de hule, caucho, plásticos y de sustancias químicas                                 286\n",
       "Otros trabajadores en actividades agrícolas, ganaderas, forestales, caza y pesca, no clasificados anteriormente                             243\n",
       "Ayudantes de conductores de transporte, conductores de transporte de tracción humana y animal y cargadores                                  228\n",
       "Directores y gerentes en servicios financieros, legales, administrativos y sociales                                                         224\n",
       "Directores y gerentes de ventas, restaurantes, hoteles y otros establecimientos                                                             202\n",
       "Coordinadores y jefes de área en servicios financieros, administrativos y sociales                                                          175\n",
       "Trabajadores de paquetería, de apoyo para espectáculos, mensajeros y repartidores de mercancías                                             167\n",
       "Trabajadores de apoyo en actividades agropecuarias, forestales, pesca y caza                                                                166\n",
       "Ayudantes en la preparación de alimentos                                                                                                    158\n",
       "Funcionarios y altas autoridades de los sectores público, privado y social                                                                  152\n",
       "Coordinadores y jefes de área en producción y tecnología                                                                                    119\n",
       "Operadores de maquinaria agropecuaria y forestal                                                                                             80\n",
       "Coordinadores y jefes de área de ventas, restaurantes, hoteles y otros establecimientos                                                      61\n",
       "Directores y gerentes en producción, tecnología y transporte                                                                                 57\n",
       "Busca trabajo                                                                                                                                51\n",
       "Trabajadores en servicios de alquiler                                                                                                        51\n",
       "Ensambladores y montadores de herramientas, maquinaria, productos metálicos y electrónicos                                                   25\n",
       "Name: count, dtype: int64"
      ]
     },
     "execution_count": 58,
     "metadata": {},
     "output_type": "execute_result"
    }
   ],
   "source": [
    "df = get_values(df, \"ocupacion\", \"ocupacion.csv\")\n",
    "df[\"ocupacion\"].value_counts()"
   ]
  },
  {
   "cell_type": "code",
   "execution_count": 59,
   "id": "aa25e401f82ec460",
   "metadata": {
    "ExecuteTime": {
     "end_time": "2024-11-18T06:03:34.230102Z",
     "start_time": "2024-11-18T06:03:32.561991Z"
    }
   },
   "outputs": [
    {
     "data": {
      "text/plain": [
       "necropsia\n",
       "No                 567078\n",
       "No especificada    141059\n",
       "SÍ                  91732\n",
       "Name: count, dtype: int64"
      ]
     },
     "execution_count": 59,
     "metadata": {},
     "output_type": "execute_result"
    }
   ],
   "source": [
    "df = get_values(df, \"necropsia\", \"necropsia.csv\")\n",
    "df[\"necropsia\"].value_counts()"
   ]
  },
  {
   "cell_type": "code",
   "execution_count": 60,
   "id": "a82634b5723acd61",
   "metadata": {
    "ExecuteTime": {
     "end_time": "2024-11-18T06:03:36.082163Z",
     "start_time": "2024-11-18T06:03:34.291323Z"
    }
   },
   "outputs": [
    {
     "data": {
      "text/plain": [
       "nacionalid\n",
       "Mexicana           783751\n",
       "No especificada     10612\n",
       "Extranjera           5506\n",
       "Name: count, dtype: int64"
      ]
     },
     "execution_count": 60,
     "metadata": {},
     "output_type": "execute_result"
    }
   ],
   "source": [
    "df = get_values(df, \"nacionalid\", \"nacionalidad.csv\")\n",
    "df[\"nacionalid\"].value_counts()"
   ]
  },
  {
   "cell_type": "code",
   "execution_count": 61,
   "id": "58cde8a2050c5f88",
   "metadata": {
    "ExecuteTime": {
     "end_time": "2024-11-18T06:03:37.026903Z",
     "start_time": "2024-11-18T06:03:36.132514Z"
    }
   },
   "outputs": [
    {
     "data": {
      "text/plain": [
       "mes_cert\n",
       "Enero              77312\n",
       "Diciembre          75377\n",
       "Junio              69468\n",
       "Noviembre          66393\n",
       "Marzo              65362\n",
       "Mayo               65221\n",
       "Agosto             64814\n",
       "Octubre            64483\n",
       "Julio              64204\n",
       "Febrero            63010\n",
       "Septiembre         62198\n",
       "Abril              61740\n",
       "No especificado      287\n",
       "Name: count, dtype: int64"
      ]
     },
     "execution_count": 61,
     "metadata": {},
     "output_type": "execute_result"
    }
   ],
   "source": [
    "df = get_values(df, \"mes_cert\", \"mes.csv\")\n",
    "df[\"mes_cert\"].value_counts()"
   ]
  },
  {
   "cell_type": "code",
   "execution_count": 62,
   "id": "26a8e0598facec42",
   "metadata": {
    "ExecuteTime": {
     "end_time": "2024-11-18T06:03:37.828316Z",
     "start_time": "2024-11-18T06:03:37.062143Z"
    }
   },
   "outputs": [
    {
     "data": {
      "text/plain": [
       "lugar_ocur\n",
       "No aplica para muerte natural               715751\n",
       "Calle o carretera (vía pública)              36296\n",
       "Se ignora                                    22481\n",
       "Vivienda particular                          14218\n",
       "Otro                                          7329\n",
       "Granja (rancho o parcela)                     1307\n",
       "Área comercial o de servicios                 1296\n",
       "Área industrial (taller; fabrica u obra)       572\n",
       "Escuela u oficina pública                      244\n",
       "Vivienda colectiva                             238\n",
       "Áreas deportivas                               137\n",
       "Name: count, dtype: int64"
      ]
     },
     "execution_count": 62,
     "metadata": {},
     "output_type": "execute_result"
    }
   ],
   "source": [
    "df = get_values(df, \"lugar_ocur\", \"lugar_ocurrencia.csv\")\n",
    "df[\"lugar_ocur\"].value_counts()"
   ]
  },
  {
   "cell_type": "code",
   "execution_count": 63,
   "id": "3f32a35826ded96f",
   "metadata": {
    "ExecuteTime": {
     "end_time": "2024-11-18T06:03:38.987224Z",
     "start_time": "2024-11-18T06:03:37.875570Z"
    }
   },
   "outputs": [
    {
     "data": {
      "text/plain": [
       "lista_mex\n",
       "Infarto agudo del miocardio                  131203\n",
       "Diabetes mellitus                            110059\n",
       "Neumonía                                      33454\n",
       "Agresiones (homicidios)                       32252\n",
       "Otras enfermedades del hígado                 26883\n",
       "                                              ...  \n",
       "Deformidades adquiridas de los miembros           1\n",
       "Hidrocele y espermatocele                         1\n",
       "Otras enfermedades debidas a espiroquetas         1\n",
       "Fiebre paratifoidea                               1\n",
       "Aborto espontáneo                                 1\n",
       "Name: count, Length: 319, dtype: int64"
      ]
     },
     "execution_count": 63,
     "metadata": {},
     "output_type": "execute_result"
    }
   ],
   "source": [
    "df = get_values(df, \"lista_mex\", \"lista_mexicana.csv\")\n",
    "df[\"lista_mex\"].value_counts()"
   ]
  },
  {
   "cell_type": "code",
   "execution_count": 64,
   "id": "22d4f4ba667c6f40",
   "metadata": {
    "ExecuteTime": {
     "end_time": "2024-11-18T06:03:39.962740Z",
     "start_time": "2024-11-18T06:03:39.025168Z"
    }
   },
   "outputs": [
    {
     "data": {
      "text/plain": [
       "lista1\n",
       "Enfermedades isquémicas del corazón    142764\n",
       "Diabetes mellitus                      110059\n",
       "Enfermedades del hígado                 40052\n",
       "Enfermedades cerebrovasculares          34428\n",
       "Neumonía                                33454\n",
       "                                        ...  \n",
       "Enfermedades del ojo y sus anexos          25\n",
       "Tétanos                                     4\n",
       "Infeccion meningocócica                     2\n",
       "Rabia                                       1\n",
       "Paludismo (malaria)                         1\n",
       "Name: count, Length: 84, dtype: int64"
      ]
     },
     "execution_count": 64,
     "metadata": {},
     "output_type": "execute_result"
    }
   ],
   "source": [
    "df = get_values(df, \"lista1\", \"lista1.csv\")\n",
    "df[\"lista1\"].value_counts()"
   ]
  },
  {
   "cell_type": "code",
   "execution_count": 65,
   "id": "6029ca8cc627dde6",
   "metadata": {
    "ExecuteTime": {
     "end_time": "2024-11-18T06:03:40.793427Z",
     "start_time": "2024-11-18T06:03:39.999637Z"
    }
   },
   "outputs": [
    {
     "data": {
      "text/plain": [
       "cve_lengua\n",
       "No aplica                                   746696\n",
       "No especificado                              11284\n",
       "Náhuatl                                      10410\n",
       "Maya                                          5386\n",
       "Zapoteco                                      3560\n",
       "                                             ...  \n",
       "Ayapaneco                                        1\n",
       "Tepehuano insuficientemente especificado         1\n",
       "Kiliwa                                           1\n",
       "K’iche’                                          1\n",
       "Cucapá                                           1\n",
       "Name: count, Length: 63, dtype: int64"
      ]
     },
     "execution_count": 65,
     "metadata": {},
     "output_type": "execute_result"
    }
   ],
   "source": [
    "df = get_values(df, \"cve_lengua\", \"lenguas.csv\")\n",
    "df[\"cve_lengua\"].value_counts()"
   ]
  },
  {
   "cell_type": "code",
   "execution_count": 66,
   "id": "6be0f075edcb44ec",
   "metadata": {
    "ExecuteTime": {
     "end_time": "2024-11-18T06:03:42.183099Z",
     "start_time": "2024-11-18T06:03:40.832558Z"
    }
   },
   "outputs": [
    {
     "data": {
      "text/plain": [
       "lengua\n",
       "No                               660550\n",
       "Sí                                56588\n",
       "Se ignora                         53612\n",
       "No aplica a menores de 3 años     29119\n",
       "Name: count, dtype: int64"
      ]
     },
     "execution_count": 66,
     "metadata": {},
     "output_type": "execute_result"
    }
   ],
   "source": [
    "df = get_values(df, \"lengua\", \"lengua_indigena.csv\")\n",
    "df[\"lengua\"].value_counts()"
   ]
  },
  {
   "cell_type": "code",
   "execution_count": 67,
   "id": "7da596141660d5b3",
   "metadata": {
    "ExecuteTime": {
     "end_time": "2024-11-18T06:03:43.283911Z",
     "start_time": "2024-11-18T06:03:42.220339Z"
    }
   },
   "outputs": [
    {
     "data": {
      "text/plain": [
       "gr_lismex\n",
       "AGRESIONES                                                                                                                                           32252\n",
       "OTROS ACCIDENTES, INCLUSO LOS EFECTOS TARDIOS                                                                                                        17997\n",
       "ACCIDENTES DE TRANSPORTE                                                                                                                             17280\n",
       "LESIONES AUTOINFLIGIDAS INTENCIONALMENTE                                                                                                              9072\n",
       "OTRA VIOLENCIA                                                                                                                                        2497\n",
       "CAIDAS                                                                                                                                                2374\n",
       "ENVENENAMIENTO ACCIDENTAL POR, Y EXPOSICION A SUSTANCIAS NOCIVAS                                                                                      1289\n",
       "EXPOSICION AL HUMO, FUEGO Y LLAMAS                                                                                                                     708\n",
       "CONTRATIEMPOS DURANTE LA ATENCION MEDICA, REACCIONES ANORMALES Y COMPLICACIONES ULTERIORES                                                             440\n",
       "DROGAS, MEDICAMENTOS Y SUSTANCIAS BIOLOGICAS CAUSANTES DE EFECTOS ADVERSOS EN SU USO TERAPEUTICO                                                       187\n",
       "SECUELAS DE LESIONES AUTOINFLIGIDAS, AGRESIONES Y EVENTOS DE INTENCION NO DETERMINADA, DE ATENCION MEDICA Y QUIRURGICA Y DE OTRAS CAUSAS EXTERNAS       22\n",
       "Name: count, dtype: int64"
      ]
     },
     "execution_count": 67,
     "metadata": {},
     "output_type": "execute_result"
    }
   ],
   "source": [
    "df = get_values(df, \"gr_lismex\", \"grupo_lista_mexicana.csv\")\n",
    "df[\"gr_lismex\"].value_counts()"
   ]
  },
  {
   "cell_type": "code",
   "execution_count": 68,
   "id": "5bd44c8c0a5ce14a",
   "metadata": {
    "ExecuteTime": {
     "end_time": "2024-11-18T06:03:44.486985Z",
     "start_time": "2024-11-18T06:03:43.353611Z"
    }
   },
   "outputs": [
    {
     "data": {
      "text/plain": [
       "edo_civil\n",
       "Casado(a)                         265146\n",
       "Soltero(a)                        192552\n",
       "Viudo(a)                          171938\n",
       "Unión libre                        66909\n",
       "No especificado                    47086\n",
       "No aplica a menores de 12 años     27127\n",
       "Divorciado(a)                      17920\n",
       "Separado(a)                        11191\n",
       "Name: count, dtype: int64"
      ]
     },
     "execution_count": 68,
     "metadata": {},
     "output_type": "execute_result"
    }
   ],
   "source": [
    "df = get_values(df, \"edo_civil\", \"estado_civil.csv\")\n",
    "df[\"edo_civil\"].value_counts()"
   ]
  },
  {
   "cell_type": "code",
   "execution_count": 69,
   "id": "9ea369790f898d76",
   "metadata": {
    "ExecuteTime": {
     "end_time": "2024-11-18T06:03:45.690853Z",
     "start_time": "2024-11-18T06:03:44.531523Z"
    }
   },
   "outputs": [
    {
     "data": {
      "text/plain": [
       "escolarida\n",
       "Primaria completa                         170988\n",
       "Primaria incompleta                       166561\n",
       "Sin escolaridad                           126459\n",
       "Secundaria completa                       106041\n",
       "Profesional                                70781\n",
       "Bachillerato o preparatoria completo       61179\n",
       "No especificado                            32611\n",
       "No aplica a menores de 3 años              22207\n",
       "Secundaria incompleta                      20182\n",
       "Bachillerato o preparatoria incompleto     16327\n",
       "Posgrado                                    5153\n",
       "Preescolar                                  1380\n",
       "Name: count, dtype: int64"
      ]
     },
     "execution_count": 69,
     "metadata": {},
     "output_type": "execute_result"
    }
   ],
   "source": [
    "df = get_values(df, \"escolarida\", \"escolaridad.csv\")\n",
    "df[\"escolarida\"].value_counts()"
   ]
  },
  {
   "cell_type": "code",
   "execution_count": 70,
   "id": "6730918e362f1610",
   "metadata": {
    "ExecuteTime": {
     "end_time": "2024-11-18T06:03:46.942236Z",
     "start_time": "2024-11-18T06:03:45.800895Z"
    }
   },
   "outputs": [
    {
     "data": {
      "text/plain": [
       "encefalica\n",
       "No                 432005\n",
       "No especificada    319412\n",
       "No aplica           36499\n",
       "Sí                  11953\n",
       "Name: count, dtype: int64"
      ]
     },
     "execution_count": 70,
     "metadata": {},
     "output_type": "execute_result"
    }
   ],
   "source": [
    "df = get_values(df, \"encefalica\", \"encefalica.csv\")\n",
    "df[\"encefalica\"].value_counts()"
   ]
  },
  {
   "cell_type": "code",
   "execution_count": 71,
   "id": "fe6d89833ed44808",
   "metadata": {
    "ExecuteTime": {
     "end_time": "2024-11-18T06:03:48.625754Z",
     "start_time": "2024-11-18T06:03:46.986075Z"
    }
   },
   "outputs": [
    {
     "data": {
      "text/plain": [
       "edad_agru\n",
       "De 75 a 79 años      82230\n",
       "De 80 a 84 años      82200\n",
       "De 70 a 74 años      77672\n",
       "De 85 a 89 años      73394\n",
       "De 65 a 69 años      72848\n",
       "De 60 a 64 años      64494\n",
       "De 55 a 59 años      53333\n",
       "De 90 a 94 años      48321\n",
       "De 50 a 54 años      43270\n",
       "De 45 a 49 años      34552\n",
       "De 40 a 44 años      26237\n",
       "De 35 a 39 años      21700\n",
       "De 30 a 34 años      19997\n",
       "De 95 a 99 años      19535\n",
       "Menores de un año    19345\n",
       "De 25 a 29 años      17362\n",
       "De 20 a 24 años      14409\n",
       "De 15 a 19 años       9382\n",
       "No  especificada      4490\n",
       "De 100 a 104 años     4446\n",
       "De 10 a 14 años       3311\n",
       "De 5 a 9 años         2532\n",
       "De un año             1877\n",
       "De 2 años              985\n",
       "De 3 años              752\n",
       "De 4 años              635\n",
       "De 105 a 109 años      470\n",
       "De 110 a 114 años       73\n",
       "De 115 a 119 años       14\n",
       "De 120 y más años        3\n",
       "Name: count, dtype: int64"
      ]
     },
     "execution_count": 71,
     "metadata": {},
     "output_type": "execute_result"
    }
   ],
   "source": [
    "df = get_values(df, \"edad_agru\", \"edad_agrupada.csv\")\n",
    "df[\"edad_agru\"].value_counts()"
   ]
  },
  {
   "cell_type": "code",
   "execution_count": 72,
   "id": "ad086e4d74cb8ae7",
   "metadata": {
    "ExecuteTime": {
     "end_time": "2024-11-18T06:03:52.219398Z",
     "start_time": "2024-11-18T06:03:52.204090Z"
    }
   },
   "outputs": [
    {
     "data": {
      "text/plain": [
       "edad\n",
       "4082    16864\n",
       "4080    16673\n",
       "4078    16576\n",
       "4077    16516\n",
       "4079    16436\n",
       "        ...  \n",
       "4120        3\n",
       "2098        2\n",
       "4117        2\n",
       "4119        2\n",
       "4116        1\n",
       "Name: count, Length: 187, dtype: int64"
      ]
     },
     "execution_count": 72,
     "metadata": {},
     "output_type": "execute_result"
    }
   ],
   "source": [
    "df[\"edad\"].value_counts()"
   ]
  },
  {
   "cell_type": "code",
   "execution_count": 73,
   "id": "74d9ff79810f1b42",
   "metadata": {
    "ExecuteTime": {
     "end_time": "2024-11-18T06:03:55.472859Z",
     "start_time": "2024-11-18T06:03:55.464882Z"
    }
   },
   "outputs": [
    {
     "data": {
      "text/plain": [
       "donador\n",
       "8    787916\n",
       "2      9888\n",
       "9      1593\n",
       "1       472\n",
       "Name: count, dtype: int64"
      ]
     },
     "execution_count": 73,
     "metadata": {},
     "output_type": "execute_result"
    }
   ],
   "source": [
    "df[\"donador\"].value_counts()"
   ]
  },
  {
   "cell_type": "code",
   "execution_count": 76,
   "id": "dd2a1c3931e86e8d",
   "metadata": {
    "ExecuteTime": {
     "end_time": "2024-11-18T06:04:46.790492Z",
     "start_time": "2024-11-18T06:04:46.768262Z"
    }
   },
   "outputs": [
    {
     "data": {
      "text/plain": [
       "embarazo\n",
       "No aplica                          455674\n",
       "No especificada                    312396\n",
       "No tuvieron relación las causas       853\n",
       "Si tuvieron relación las causas       244\n",
       "Name: count, dtype: int64"
      ]
     },
     "execution_count": 76,
     "metadata": {},
     "output_type": "execute_result"
    }
   ],
   "source": [
    "df[\"embarazo\"].value_counts()"
   ]
  },
  {
   "cell_type": "code",
   "execution_count": 74,
   "id": "9402f00822c7e422",
   "metadata": {
    "ExecuteTime": {
     "end_time": "2024-11-18T06:04:14.839536Z",
     "start_time": "2024-11-18T06:04:13.707733Z"
    }
   },
   "outputs": [
    {
     "data": {
      "text/plain": [
       "edad\n",
       "Ochenta y dos años                 16864\n",
       "Ochenta años                       16673\n",
       "Setenta y ocho años                16576\n",
       "Setenta y siete años               16516\n",
       "Setenta y nueve años               16436\n",
       "                                   ...  \n",
       "Ciento veinte años                     3\n",
       "Días no especificados                  2\n",
       "Ciento diecisiete años                 2\n",
       "Ciento diecinueve años                 2\n",
       "Ciento dieciséis años                  1\n",
       "Name: count, Length: 187, dtype: int64"
      ]
     },
     "execution_count": 74,
     "metadata": {},
     "output_type": "execute_result"
    }
   ],
   "source": [
    "df = get_values(df, \"edad\", \"edad.csv\")\n",
    "df[\"edad\"].value_counts()"
   ]
  },
  {
   "cell_type": "code",
   "execution_count": 75,
   "id": "f6d85939bf7fbe9d",
   "metadata": {
    "ExecuteTime": {
     "end_time": "2024-11-18T06:04:29.172369Z",
     "start_time": "2024-11-18T06:04:28.057168Z"
    }
   },
   "outputs": [
    {
     "data": {
      "text/plain": [
       "donador\n",
       "No aplica          787916\n",
       "No                   9888\n",
       "No especificada      1593\n",
       "Sí                    472\n",
       "Name: count, dtype: int64"
      ]
     },
     "execution_count": 75,
     "metadata": {},
     "output_type": "execute_result"
    }
   ],
   "source": [
    "df = get_values(df, \"donador\", \"donador.csv\")\n",
    "df[\"donador\"].value_counts()"
   ]
  },
  {
   "cell_type": "code",
   "execution_count": 77,
   "id": "2776e6cf84f22839",
   "metadata": {
    "ExecuteTime": {
     "end_time": "2024-11-18T06:05:30.057456Z",
     "start_time": "2024-11-18T06:05:28.899813Z"
    }
   },
   "outputs": [
    {
     "data": {
      "text/plain": [
       "derechohab\n",
       "Ninguna                                                                       312459\n",
       "IMSS                                                                          277480\n",
       "No especificada                                                               107955\n",
       "ISSSTE                                                                         55765\n",
       "Otra                                                                           20451\n",
       "IMSS BIENESTAR                                                                 11794\n",
       "PEMEX                                                                           5937\n",
       "SEDENA                                                                          2880\n",
       " Instituto de Seguridad Social para las Fuerzas Armadas Mexicanas (ISSFAM)      2706\n",
       "Reportado como equivalente al Seguro Popular                                    1282\n",
       "SEMAR                                                                           1160\n",
       "Name: count, dtype: int64"
      ]
     },
     "execution_count": 77,
     "metadata": {},
     "output_type": "execute_result"
    }
   ],
   "source": [
    "df = get_values(df, \"derechohab\", \"derechohabiencia.csv\")\n",
    "df[\"derechohab\"].value_counts()"
   ]
  },
  {
   "cell_type": "code",
   "execution_count": 78,
   "id": "3237d9a2676b753",
   "metadata": {
    "ExecuteTime": {
     "end_time": "2024-11-18T06:05:31.732037Z",
     "start_time": "2024-11-18T06:05:30.770980Z"
    }
   },
   "outputs": [
    {
     "data": {
      "text/plain": [
       "conindig\n",
       "No                 665890\n",
       "Sí                  53651\n",
       "No especificado     43829\n",
       "No aplica           36499\n",
       "Name: count, dtype: int64"
      ]
     },
     "execution_count": 78,
     "metadata": {},
     "output_type": "execute_result"
    }
   ],
   "source": [
    "df = get_values(df, \"conindig\", \"conind.csv\")\n",
    "df[\"conindig\"].value_counts()"
   ]
  },
  {
   "cell_type": "code",
   "execution_count": 79,
   "id": "3c39d8fc9087f437",
   "metadata": {
    "ExecuteTime": {
     "end_time": "2024-11-18T06:05:33.266229Z",
     "start_time": "2024-11-18T06:05:32.287468Z"
    }
   },
   "outputs": [
    {
     "data": {
      "text/plain": [
       "cond_act\n",
       "No                               425630\n",
       "Sí                               310149\n",
       "Se ignora                         40496\n",
       "No aplica a menores de 5 años     23594\n",
       "Name: count, dtype: int64"
      ]
     },
     "execution_count": 79,
     "metadata": {},
     "output_type": "execute_result"
    }
   ],
   "source": [
    "df = get_values(df, \"cond_act\", \"condicion_actividad.csv\")\n",
    "df[\"cond_act\"].value_counts()"
   ]
  },
  {
   "cell_type": "code",
   "execution_count": 80,
   "id": "99840367b8eacfa4",
   "metadata": {
    "ExecuteTime": {
     "end_time": "2024-11-18T06:05:34.244675Z",
     "start_time": "2024-11-18T06:05:33.294744Z"
    }
   },
   "outputs": [
    {
     "data": {
      "text/plain": [
       "complicaro\n",
       "No aplica                     455674\n",
       "No especificada               327092\n",
       "No complicaron el embarazo     16677\n",
       "Sí complicaron el embarazo       426\n",
       "Name: count, dtype: int64"
      ]
     },
     "execution_count": 80,
     "metadata": {},
     "output_type": "execute_result"
    }
   ],
   "source": [
    "df = get_values(df, \"complicaro\", \"complicaron_embarazo.csv\")\n",
    "df[\"complicaro\"].value_counts()"
   ]
  },
  {
   "cell_type": "code",
   "execution_count": 81,
   "id": "8485843d8f28280d",
   "metadata": {
    "ExecuteTime": {
     "end_time": "2024-11-18T06:05:35.467170Z",
     "start_time": "2024-11-18T06:05:34.262325Z"
    }
   },
   "outputs": [
    {
     "data": {
      "text/plain": [
       "cod_adicio\n",
       "Traumatismo intracraneal, no especificado                                       14527\n",
       "Asfixia                                                                         11711\n",
       "Herida del tórax, parte no especificada                                          5085\n",
       "Traumatismo cerebral difuso                                                      4762\n",
       "Herida de otras partes de la cabeza                                              3414\n",
       "                                                                                ...  \n",
       "Envenenamiento por otros antagonistas de las hormonas y los no especificados        1\n",
       "Quemadura de otros órganos internos y de los no especificados                       1\n",
       "Otros efectos especificados de causas externas                                      1\n",
       "Herida de la vagina y de la vulva                                                   1\n",
       "Quemadura que afecta la laringe y la tráquea con el pulmón                          1\n",
       "Name: count, Length: 560, dtype: int64"
      ]
     },
     "execution_count": 81,
     "metadata": {},
     "output_type": "execute_result"
    }
   ],
   "source": [
    "df = get_values(df, \"cod_adicio\", \"codigo_adicional.csv\")\n",
    "df[\"cod_adicio\"].value_counts()"
   ]
  },
  {
   "cell_type": "code",
   "execution_count": 82,
   "id": "732b40f147aa2a4c",
   "metadata": {
    "ExecuteTime": {
     "end_time": "2024-11-18T06:05:40.436724Z",
     "start_time": "2024-11-18T06:05:39.367443Z"
    }
   },
   "outputs": [
    {
     "data": {
      "text/plain": [
       "cirugia\n",
       "No especificada    713562\n",
       "Sí                  47280\n",
       "No aplica           36499\n",
       "No                   2528\n",
       "Name: count, dtype: int64"
      ]
     },
     "execution_count": 82,
     "metadata": {},
     "output_type": "execute_result"
    }
   ],
   "source": [
    "df = get_values(df, \"cirugia\", \"cirugia.csv\")\n",
    "df[\"cirugia\"].value_counts()"
   ]
  },
  {
   "cell_type": "code",
   "execution_count": 83,
   "id": "323894dd89f4c07",
   "metadata": {
    "ExecuteTime": {
     "end_time": "2024-11-18T06:05:41.522238Z",
     "start_time": "2024-11-18T06:05:40.442771Z"
    }
   },
   "outputs": [
    {
     "data": {
      "text/plain": [
       "cond_cert\n",
       "Otro médico                      490025\n",
       "Médico tratante                  140961\n",
       "Médico legista                   109474\n",
       "No especificada                   32670\n",
       "Otro                              13291\n",
       "Persona autorizada por la SSA      7771\n",
       "Autoridad civil                    5677\n",
       "Name: count, dtype: int64"
      ]
     },
     "execution_count": 83,
     "metadata": {},
     "output_type": "execute_result"
    }
   ],
   "source": [
    "df = get_values(df, \"cond_cert\", \"certificante.csv\")\n",
    "df[\"cond_cert\"].value_counts()"
   ]
  },
  {
   "cell_type": "code",
   "execution_count": 84,
   "id": "d29cc55c444d90d7",
   "metadata": {
    "ExecuteTime": {
     "end_time": "2024-11-18T06:05:42.672849Z",
     "start_time": "2024-11-18T06:05:41.550930Z"
    }
   },
   "outputs": [
    {
     "data": {
      "text/plain": [
       "causa_def\n",
       "Infarto agudo del miocardio, sin otra especificación                                          130456\n",
       "Diabetes mellitus no insulinodependiente, con otras complicaciones especificadas               34229\n",
       "Neumonía, no especificada                                                                      27039\n",
       "Diabetes mellitus no insulinodependiente, con complicaciones múltiples                         18392\n",
       "Diabetes mellitus no insulinodependiente, con complicaciones renales                           16464\n",
       "                                                                                               ...  \n",
       "Confinado o atrapado en un ambiente con bajo contenido de oxígeno en lugar no especificado         1\n",
       "Aleteo auricular atípico                                                                           1\n",
       "Disparo de rifle, escopeta y arma larga, de intención no determinada en granja                     1\n",
       "Síndrome de Lesch-Nyhan                                                                            1\n",
       "Displasia de la próstata                                                                           1\n",
       "Name: count, Length: 4119, dtype: int64"
      ]
     },
     "execution_count": 84,
     "metadata": {},
     "output_type": "execute_result"
    }
   ],
   "source": [
    "df = get_values(df, \"causa_def\", \"causa_defuncion.CSV\")\n",
    "df[\"causa_def\"].value_counts()"
   ]
  },
  {
   "cell_type": "code",
   "execution_count": 85,
   "id": "8eaf550802b92a55",
   "metadata": {
    "ExecuteTime": {
     "end_time": "2024-11-18T06:05:43.621596Z",
     "start_time": "2024-11-18T06:05:42.693617Z"
    }
   },
   "outputs": [
    {
     "data": {
      "text/plain": [
       "maternas\n",
       "Muerte por causa obstétrica indirecta que ocurre después de 42 días pero antes de un año del parto    69\n",
       "Muerte por causa obstétrica directa que ocurre después de 42 días pero antes de un año del parto      48\n",
       "Otras enfermedades especificadas y afecciones que complican el embarazo, el parto y el puerperio      47\n",
       "Otras hemorragias postparto inmediatas                                                                47\n",
       "Muerte por secuelas de causa obstétrica directa                                                       43\n",
       "                                                                                                      ..\n",
       "Trabajo de parto obstruido debido a otras presentaciones anormales del feto                            1\n",
       "Atención materna por tumor del cuerpo del útero                                                        1\n",
       "Preeclampsia leve a moderada                                                                           1\n",
       "Hepatitis viral que complica el embarazo, el parto y el puerperio                                      1\n",
       "Aborto espontáneo completo o no especificado, complicado por hemorragia excesiva o tardía              1\n",
       "Name: count, Length: 93, dtype: int64"
      ]
     },
     "execution_count": 85,
     "metadata": {},
     "output_type": "execute_result"
    }
   ],
   "source": [
    "df = get_values(df, \"maternas\", \"causa_defuncion.CSV\")\n",
    "df[\"maternas\"].value_counts()"
   ]
  },
  {
   "cell_type": "code",
   "execution_count": 86,
   "id": "2b136c2758e8bd2f",
   "metadata": {
    "ExecuteTime": {
     "end_time": "2024-11-18T06:05:44.645038Z",
     "start_time": "2024-11-18T06:05:43.680856Z"
    }
   },
   "outputs": [
    {
     "data": {
      "text/plain": [
       "asist_medi\n",
       "Con asistencia médica    638183\n",
       "Sin asistencia médica    110670\n",
       "No especificada           51016\n",
       "Name: count, dtype: int64"
      ]
     },
     "execution_count": 86,
     "metadata": {},
     "output_type": "execute_result"
    }
   ],
   "source": [
    "df = get_values(df, \"asist_medi\", \"asistencia_medica.csv\")\n",
    "df[\"asist_medi\"].value_counts()"
   ]
  },
  {
   "cell_type": "code",
   "execution_count": 87,
   "id": "13a3752b056dfe9c",
   "metadata": {
    "ExecuteTime": {
     "end_time": "2024-11-18T06:05:45.801515Z",
     "start_time": "2024-11-18T06:05:44.700599Z"
    }
   },
   "outputs": [
    {
     "data": {
      "text/plain": [
       "area_ur\n",
       "Urbana             635893\n",
       "Rural              151786\n",
       "No especificada     12190\n",
       "Name: count, dtype: int64"
      ]
     },
     "execution_count": 87,
     "metadata": {},
     "output_type": "execute_result"
    }
   ],
   "source": [
    "df = get_values(df, \"area_ur\", \"area_urbana_rural.csv\")\n",
    "df[\"area_ur\"].value_counts()"
   ]
  },
  {
   "cell_type": "code",
   "execution_count": 88,
   "id": "970362bba7118e39",
   "metadata": {
    "ExecuteTime": {
     "end_time": "2024-11-18T06:05:46.928725Z",
     "start_time": "2024-11-18T06:05:45.847786Z"
    }
   },
   "outputs": [
    {
     "data": {
      "text/plain": [
       "afromex\n",
       "No                 710337\n",
       "No especificado     45248\n",
       "No aplica           36499\n",
       "Sí                   7785\n",
       "Name: count, dtype: int64"
      ]
     },
     "execution_count": 88,
     "metadata": {},
     "output_type": "execute_result"
    }
   ],
   "source": [
    "df = get_values(df, \"afromex\", \"afromexi.csv\")\n",
    "df[\"afromex\"].value_counts()"
   ]
  },
  {
   "cell_type": "code",
   "execution_count": 89,
   "id": "f48ba2cc34fed3bb",
   "metadata": {
    "ExecuteTime": {
     "end_time": "2024-11-18T06:05:48.060724Z",
     "start_time": "2024-11-18T06:05:46.965374Z"
    }
   },
   "outputs": [
    {
     "data": {
      "text/plain": [
       "natviole\n",
       "No           685538\n",
       "Sí            77832\n",
       "No aplica     36499\n",
       "Name: count, dtype: int64"
      ]
     },
     "execution_count": 89,
     "metadata": {},
     "output_type": "execute_result"
    }
   ],
   "source": [
    "df = get_values(df, \"natviole\", \"accidental_violenta.csv\")\n",
    "df[\"natviole\"].value_counts()"
   ]
  },
  {
   "cell_type": "code",
   "execution_count": 91,
   "id": "addb96955f71a635",
   "metadata": {
    "ExecuteTime": {
     "end_time": "2024-11-18T06:07:39.803294Z",
     "start_time": "2024-11-18T06:07:39.710735Z"
    }
   },
   "outputs": [
    {
     "data": {
      "text/html": [
       "<div>\n",
       "<style scoped>\n",
       "    .dataframe tbody tr th:only-of-type {\n",
       "        vertical-align: middle;\n",
       "    }\n",
       "\n",
       "    .dataframe tbody tr th {\n",
       "        vertical-align: top;\n",
       "    }\n",
       "\n",
       "    .dataframe thead th {\n",
       "        text-align: right;\n",
       "    }\n",
       "</style>\n",
       "<table border=\"1\" class=\"dataframe\">\n",
       "  <thead>\n",
       "    <tr style=\"text-align: right;\">\n",
       "      <th></th>\n",
       "      <th>ent_regis</th>\n",
       "      <th>mun_regis</th>\n",
       "      <th>tloc_regis</th>\n",
       "      <th>loc_regis</th>\n",
       "      <th>ent_resid</th>\n",
       "      <th>mun_resid</th>\n",
       "      <th>tloc_resid</th>\n",
       "      <th>loc_resid</th>\n",
       "      <th>ent_ocurr</th>\n",
       "      <th>mun_ocurr</th>\n",
       "      <th>...</th>\n",
       "      <th>complicaro</th>\n",
       "      <th>dia_cert</th>\n",
       "      <th>mes_cert</th>\n",
       "      <th>anio_cert</th>\n",
       "      <th>maternas</th>\n",
       "      <th>ent_ocules</th>\n",
       "      <th>mun_ocules</th>\n",
       "      <th>loc_ocules</th>\n",
       "      <th>razon_m</th>\n",
       "      <th>dis_re_oax</th>\n",
       "    </tr>\n",
       "  </thead>\n",
       "  <tbody>\n",
       "    <tr>\n",
       "      <th>0</th>\n",
       "      <td>1</td>\n",
       "      <td>1</td>\n",
       "      <td>500 000 a 999 999 habitantes</td>\n",
       "      <td>1</td>\n",
       "      <td>32</td>\n",
       "      <td>44</td>\n",
       "      <td>5 000 a 9 999 habitantes</td>\n",
       "      <td>1</td>\n",
       "      <td>1</td>\n",
       "      <td>1</td>\n",
       "      <td>...</td>\n",
       "      <td>No especificada</td>\n",
       "      <td>18</td>\n",
       "      <td>Diciembre</td>\n",
       "      <td>2022</td>\n",
       "      <td>NaN</td>\n",
       "      <td>88</td>\n",
       "      <td>888</td>\n",
       "      <td>8888</td>\n",
       "      <td>NaN</td>\n",
       "      <td>999</td>\n",
       "    </tr>\n",
       "    <tr>\n",
       "      <th>1</th>\n",
       "      <td>1</td>\n",
       "      <td>1</td>\n",
       "      <td>500 000 a 999 999 habitantes</td>\n",
       "      <td>1</td>\n",
       "      <td>1</td>\n",
       "      <td>1</td>\n",
       "      <td>500 000 a 999 999 habitantes</td>\n",
       "      <td>1</td>\n",
       "      <td>1</td>\n",
       "      <td>1</td>\n",
       "      <td>...</td>\n",
       "      <td>No especificada</td>\n",
       "      <td>12</td>\n",
       "      <td>Diciembre</td>\n",
       "      <td>2022</td>\n",
       "      <td>NaN</td>\n",
       "      <td>88</td>\n",
       "      <td>888</td>\n",
       "      <td>8888</td>\n",
       "      <td>NaN</td>\n",
       "      <td>999</td>\n",
       "    </tr>\n",
       "    <tr>\n",
       "      <th>2</th>\n",
       "      <td>1</td>\n",
       "      <td>1</td>\n",
       "      <td>500 000 a 999 999 habitantes</td>\n",
       "      <td>1</td>\n",
       "      <td>1</td>\n",
       "      <td>1</td>\n",
       "      <td>500 000 a 999 999 habitantes</td>\n",
       "      <td>1</td>\n",
       "      <td>1</td>\n",
       "      <td>1</td>\n",
       "      <td>...</td>\n",
       "      <td>No especificada</td>\n",
       "      <td>17</td>\n",
       "      <td>Diciembre</td>\n",
       "      <td>2022</td>\n",
       "      <td>NaN</td>\n",
       "      <td>88</td>\n",
       "      <td>888</td>\n",
       "      <td>8888</td>\n",
       "      <td>NaN</td>\n",
       "      <td>999</td>\n",
       "    </tr>\n",
       "    <tr>\n",
       "      <th>3</th>\n",
       "      <td>1</td>\n",
       "      <td>1</td>\n",
       "      <td>500 000 a 999 999 habitantes</td>\n",
       "      <td>1</td>\n",
       "      <td>1</td>\n",
       "      <td>1</td>\n",
       "      <td>500 000 a 999 999 habitantes</td>\n",
       "      <td>1</td>\n",
       "      <td>1</td>\n",
       "      <td>1</td>\n",
       "      <td>...</td>\n",
       "      <td>No especificada</td>\n",
       "      <td>1</td>\n",
       "      <td>Enero</td>\n",
       "      <td>2023</td>\n",
       "      <td>NaN</td>\n",
       "      <td>88</td>\n",
       "      <td>888</td>\n",
       "      <td>8888</td>\n",
       "      <td>NaN</td>\n",
       "      <td>999</td>\n",
       "    </tr>\n",
       "    <tr>\n",
       "      <th>4</th>\n",
       "      <td>1</td>\n",
       "      <td>1</td>\n",
       "      <td>500 000 a 999 999 habitantes</td>\n",
       "      <td>1</td>\n",
       "      <td>14</td>\n",
       "      <td>53</td>\n",
       "      <td>1 a 999 habitantes</td>\n",
       "      <td>7777</td>\n",
       "      <td>1</td>\n",
       "      <td>1</td>\n",
       "      <td>...</td>\n",
       "      <td>No aplica</td>\n",
       "      <td>22</td>\n",
       "      <td>Diciembre</td>\n",
       "      <td>2022</td>\n",
       "      <td>NaN</td>\n",
       "      <td>88</td>\n",
       "      <td>888</td>\n",
       "      <td>8888</td>\n",
       "      <td>NaN</td>\n",
       "      <td>999</td>\n",
       "    </tr>\n",
       "  </tbody>\n",
       "</table>\n",
       "<p>5 rows × 74 columns</p>\n",
       "</div>"
      ],
      "text/plain": [
       "   ent_regis  mun_regis                    tloc_regis  loc_regis  ent_resid  \\\n",
       "0          1          1  500 000 a 999 999 habitantes          1         32   \n",
       "1          1          1  500 000 a 999 999 habitantes          1          1   \n",
       "2          1          1  500 000 a 999 999 habitantes          1          1   \n",
       "3          1          1  500 000 a 999 999 habitantes          1          1   \n",
       "4          1          1  500 000 a 999 999 habitantes          1         14   \n",
       "\n",
       "   mun_resid                    tloc_resid  loc_resid  ent_ocurr  mun_ocurr  \\\n",
       "0         44      5 000 a 9 999 habitantes          1          1          1   \n",
       "1          1  500 000 a 999 999 habitantes          1          1          1   \n",
       "2          1  500 000 a 999 999 habitantes          1          1          1   \n",
       "3          1  500 000 a 999 999 habitantes          1          1          1   \n",
       "4         53            1 a 999 habitantes       7777          1          1   \n",
       "\n",
       "   ...       complicaro  dia_cert   mes_cert anio_cert maternas ent_ocules  \\\n",
       "0  ...  No especificada        18  Diciembre      2022      NaN         88   \n",
       "1  ...  No especificada        12  Diciembre      2022      NaN         88   \n",
       "2  ...  No especificada        17  Diciembre      2022      NaN         88   \n",
       "3  ...  No especificada         1      Enero      2023      NaN         88   \n",
       "4  ...        No aplica        22  Diciembre      2022      NaN         88   \n",
       "\n",
       "   mun_ocules loc_ocules razon_m dis_re_oax  \n",
       "0         888       8888     NaN        999  \n",
       "1         888       8888     NaN        999  \n",
       "2         888       8888     NaN        999  \n",
       "3         888       8888     NaN        999  \n",
       "4         888       8888     NaN        999  \n",
       "\n",
       "[5 rows x 74 columns]"
      ]
     },
     "execution_count": 91,
     "metadata": {},
     "output_type": "execute_result"
    }
   ],
   "source": [
    "df.head()"
   ]
  },
  {
   "cell_type": "code",
   "execution_count": 90,
   "id": "fb0805ee2cc0f534",
   "metadata": {
    "ExecuteTime": {
     "end_time": "2024-11-18T06:06:50.420303Z",
     "start_time": "2024-11-18T06:06:37.944287Z"
    }
   },
   "outputs": [],
   "source": [
    "df.to_csv(\"defuncion_mex_23.csv\",index=False)"
   ]
  },
  {
   "cell_type": "code",
   "execution_count": null,
   "id": "f99139337d111f60",
   "metadata": {},
   "outputs": [],
   "source": []
  }
 ],
 "metadata": {
  "kernelspec": {
   "display_name": "Python 3",
   "language": "python",
   "name": "python3"
  },
  "language_info": {
   "codemirror_mode": {
    "name": "ipython",
    "version": 2
   },
   "file_extension": ".py",
   "mimetype": "text/x-python",
   "name": "python",
   "nbconvert_exporter": "python",
   "pygments_lexer": "ipython2",
   "version": "2.7.6"
  }
 },
 "nbformat": 4,
 "nbformat_minor": 5
}
